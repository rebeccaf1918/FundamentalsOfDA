{
 "cells": [
  {
   "attachments": {},
   "cell_type": "markdown",
   "metadata": {},
   "source": [
    "# Fundamentals of Data Analysis Tasks \n",
    "\n",
    "## Rebecca Feeley\n",
    "\n",
    "***"
   ]
  },
  {
   "attachments": {},
   "cell_type": "markdown",
   "metadata": {},
   "source": [
    "### Task 1 \n",
    "> To verify, using Python, that the Collatz conjecture is true for the first 10,000 positive integeres.\n",
    "\n",
    "The Collatz Conjecture is a mathematical problem which has not been definitively solved as of yet. The Collatz Conjecture is based on the below equation:  \n",
    "\n",
    "\\begin{equation*}\n",
    "f(x) =\n",
    "\\begin{cases}\n",
    "x \\div 2 & \\text{if } x \\equiv 0 , \\text{ if x is even}\\\\ \n",
    "3x+1 & \\text{if } x \\equiv 1 , \\text{ in all other cases}.\n",
    "\\end{cases}\n",
    "\\end{equation*}\n",
    "\n",
    "In simpler terms, the Collatz Conjecture is that if you pick any positive integer, and if its even, divide it by 2; if its odd, multiply it by 3 and add 1. This process should be repeated with the resulting number and it should eventually reach 1. The Collatz Conjecture states that no matter what positive integer is used, the result will always eventually reach 1.\n",
    "\n",
    "The task here is to verify that the Collatz Conjecture holds true for the first 10,000 positive prime integers. \n"
   ]
  },
  {
   "cell_type": "code",
   "execution_count": null,
   "metadata": {},
   "outputs": [],
   "source": []
  },
  {
   "cell_type": "code",
   "execution_count": null,
   "metadata": {},
   "outputs": [],
   "source": []
  },
  {
   "cell_type": "code",
   "execution_count": null,
   "metadata": {},
   "outputs": [],
   "source": []
  },
  {
   "cell_type": "code",
   "execution_count": null,
   "metadata": {},
   "outputs": [],
   "source": []
  },
  {
   "cell_type": "code",
   "execution_count": null,
   "metadata": {},
   "outputs": [],
   "source": []
  },
  {
   "attachments": {},
   "cell_type": "markdown",
   "metadata": {},
   "source": [
    "The End \n",
    "\n",
    "*** "
   ]
  }
 ],
 "metadata": {
  "kernelspec": {
   "display_name": "base",
   "language": "python",
   "name": "python3"
  },
  "language_info": {
   "codemirror_mode": {
    "name": "ipython",
    "version": 3
   },
   "file_extension": ".py",
   "mimetype": "text/x-python",
   "name": "python",
   "nbconvert_exporter": "python",
   "pygments_lexer": "ipython3",
   "version": "3.11.5"
  },
  "orig_nbformat": 4
 },
 "nbformat": 4,
 "nbformat_minor": 2
}
