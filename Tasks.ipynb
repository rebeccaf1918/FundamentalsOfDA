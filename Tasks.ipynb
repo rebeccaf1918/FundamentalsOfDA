{
 "cells": [
  {
   "attachments": {},
   "cell_type": "markdown",
   "metadata": {},
   "source": [
    "# Fundamentals of Data Analysis Project\n",
    "\n",
    "## Rebecca Feeley\n",
    "\n",
    "*** "
   ]
  },
  {
   "attachments": {},
   "cell_type": "markdown",
   "metadata": {},
   "source": [
    "### Task 1 \n",
    "> To verify, using Python, that the Collatz conjecture is true for the first 10,000 positive integeres.\n",
    "\n",
    "The Collatz Conjecture is a mathematical problem which has not been definitively solved as of yet. The Collatz Conjecture is based on the below equation:  \n",
    "\n",
    "\\begin{equation*}\n",
    "f(x) =\n",
    "\\begin{cases}\n",
    "x \\div 2 & \\text{if } x \\equiv 0 , \\text{ if x is even}\\\\ \n",
    "3x+1 & \\text{if } x \\equiv 1 , \\text{ in all other cases}.\n",
    "\\end{cases}\n",
    "\\end{equation*}\n",
    "\n",
    "In simpler terms, the Collatz Conjecture is that if you pick any positive integer, and if its even, divide it by 2; if its odd, multiply it by 3 and add 1. This process should be repeated with the resulting number and it should eventually reach 1. The Collatz Conjecture states that no matter what positive integer is used, the result will always eventually reach 1.\n",
    "\n",
    "The task here is to verify that the Collatz Conjecture holds true for the first 10,000 positive prime integers. \n"
   ]
  },
  {
   "attachments": {},
   "cell_type": "markdown",
   "metadata": {},
   "source": [
    "**The first set of code is to demonstrate the Collatz Conjecture itself by asking the user to input a positive integer and demonstrating how the conjecture will eventually reach 1 for this number.**"
   ]
  },
  {
   "cell_type": "code",
   "execution_count": 1,
   "metadata": {},
   "outputs": [
    {
     "name": "stdout",
     "output_type": "stream",
     "text": [
      "7 22 11 34 17 52 26 13 40 20 10 5 16 8 4 2 1\n"
     ]
    }
   ],
   "source": [
    " # Asks user to input  positive integer and outputs successive values of the following calculation:\n",
    "# if even, divide by 2; if odd, multiply by 3 and add 1\n",
    "\n",
    "number = int(input(\"Enter any positive integer: \")) # Asks user to input a number and converts it to an integer\n",
    "collatz_numbers = [] # a list is created to which each number will be added\n",
    "\n",
    "while number <= 0: # While loop is created to catch any negative numbers inputted so program runs properly\n",
    "    print (\"The number inputted must be a positive integer.\")\n",
    "    number = int(input(\"Please enter a positive integer: \"))\n",
    "\n",
    "def collatz(number): # I created a function to carry out the calculations required by the Collatz Conjecture\n",
    "    if (number % 2) == 0: # the number entered is checked using modulus to see if it is even. If it is even, \n",
    "        number = (number // 2) # this code runs and the number is divided by 2 and added to collatz_numbers list\n",
    "    elif (number % 2) == 1: # else if the number entered is odd,\n",
    "        number = (number * 3 + 1) # this code runs and the number is multiplied by 3 and 1 is added. \n",
    "    return (number)\n",
    "\n",
    "while number != 1: # this creates a while loop that runs until the output equals 1\n",
    "    collatz_numbers.append(number) #Its appended to collatz_numbers list \n",
    "    number = collatz(number)\n",
    "    # this loop continues until the number 1 is the outcome. \n",
    "    # The outputs of the if loop collatz function are appended to the collatz_numbers list\n",
    "collatz_numbers.append(number)\n",
    "print(*collatz_numbers) # the '*' is used to unpack the collatz_numbers list into seperate arguments and prints them out\n",
    "\n"
   ]
  },
  {
   "attachments": {},
   "cell_type": "markdown",
   "metadata": {},
   "source": [
    "### The above code demonstrates the Collatz Conjecture in action to the user. Now, I will verify the Collatz Conjecture for the first 10,000 positive integers. "
   ]
  },
  {
   "cell_type": "code",
   "execution_count": 2,
   "metadata": {},
   "outputs": [],
   "source": [
    "def collatz_sequence(x):\n",
    "    seq = [x]\n",
    "    while x > 1:\n",
    "        if x % 2 == 0:\n",
    "            x = x / 2\n",
    "        else:\n",
    "            x = 3 * x + 1\n",
    "        seq.append(x)\n",
    "    return seq\n",
    "\n",
    "for i in range(1, 10001):\n",
    "    assert collatz_sequence(i)[-1] == 1"
   ]
  },
  {
   "attachments": {},
   "cell_type": "markdown",
   "metadata": {},
   "source": [
    "The End\n",
    "\n",
    "***"
   ]
  }
 ],
 "metadata": {
  "kernelspec": {
   "display_name": "base",
   "language": "python",
   "name": "python3"
  },
  "language_info": {
   "codemirror_mode": {
    "name": "ipython",
    "version": 3
   },
   "file_extension": ".py",
   "mimetype": "text/x-python",
   "name": "python",
   "nbconvert_exporter": "python",
   "pygments_lexer": "ipython3",
   "version": "3.11.5"
  },
  "orig_nbformat": 4
 },
 "nbformat": 4,
 "nbformat_minor": 2
}
