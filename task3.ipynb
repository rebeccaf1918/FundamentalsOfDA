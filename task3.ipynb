{
 "cells": [
  {
   "cell_type": "markdown",
   "metadata": {},
   "source": [
    "## Task 3\n",
    "\n",
    "> For each of the variables in the penguins data set, suggest what probability distribution from the nimpy random distributions list is the most appropriate to model the variable. "
   ]
  },
  {
   "cell_type": "markdown",
   "metadata": {},
   "source": [
    "Distribution of Data is a list of all the possible entries, and how often each entry occurs."
   ]
  },
  {
   "cell_type": "markdown",
   "metadata": {},
   "source": [
    "The appropriate distribution type can be separated based on whether they are categorical variables vs numerical variables.\n",
    "Firstly, I will look at the categorical variables.\n",
    "\n"
   ]
  },
  {
   "cell_type": "markdown",
   "metadata": {},
   "source": [
    "The qualitative variables Species, Island and Sex are discrete, distinct variables. As such, the appropriate numpy probability distribution would be a customised categorical distribution i.e numpy.random.choice. \n",
    "In order to the demonstrate the probability distribution of categorical variables, it is necessary to specify the probability of each category. This can be obtained using the value counts function as I have demonstrated below for the Species variable.\n",
    "Such categorical variables are best visualised using bar charts or pie charts."
   ]
  },
  {
   "cell_type": "code",
   "execution_count": null,
   "metadata": {},
   "outputs": [],
   "source": [
    "# importing all of the relevant libraries to analyse the data set \n",
    "import numpy as np\n",
    "import seaborn as sns\n",
    "import matplotlib.pyplot as plt \n",
    "import pandas as pd \n",
    "\n",
    "Penguins = pd.read_csv('penguins.csv') # reading the penguins data set to use (should already be done)\n",
    "Penguins.describe(include = 'all') # I specified to include all as the describe function defaults to only show numerical data while \n",
    "# I wanted to include both numerical & categorical data.\n",
    "\n",
    "# I have downloaded the csv data file to the directory. It can also be gotten online at https://github.com/mwaskom/seaborn-data/blob/master/penguins.csv"
   ]
  },
  {
   "cell_type": "markdown",
   "metadata": {},
   "source": [
    "The above pandas describe() function provides a lot of useful information about the data set including:\n",
    "Count which is all the non-null entries (which in actuality can be considered the frequency for the purpose of this task)\n",
    "Unique shows the number of unique entries in a column\n",
    "Top is the most common variable category\n",
    "Frequency shows the frequency of the most common variable category \n",
    "Mean shows the average\n",
    "Standard Deviation\n",
    "Minimum Values of each variable\n",
    "Maximum Values of each variable\n",
    "The 50th percentile (i.e the Median)\n",
    "25th Percentile\n",
    "75th Percentile "
   ]
  },
  {
   "cell_type": "code",
   "execution_count": null,
   "metadata": {},
   "outputs": [],
   "source": [
    "# Species is a categorical variable \n",
    "plt.figure(figsize=(10, 7)) # setting the size of the figure\n",
    "sns.countplot(x= 'species', data = Penguins) \n",
    "plt.title('Frequency of Penguins Species')\n",
    "plt.xlabel('Species')\n",
    "plt.ylabel('Count')\n",
    "plt.show()\n",
    "\n",
    "\n",
    "prob_species = Penguins['species'].value_counts(normalize=True) # getting the probability of each \n",
    "\n"
   ]
  },
  {
   "cell_type": "code",
   "execution_count": null,
   "metadata": {},
   "outputs": [],
   "source": [
    "\n",
    "# ISLAND (WHICH IS CATEGORICAL)\n",
    "plt.figure(figsize=(10, 7))\n",
    "sns.countplot(x='island', data = Penguins)\n",
    "plt.title('Count of Penguins on Each Island')\n",
    "plt.xlabel('Island')\n",
    "plt.ylabel('Count')\n",
    "plt.show()\n",
    "\n",
    "# SEX (WHICH IS CATEGORICAL)\n",
    "plt.figure(figsize=(10, 7))\n",
    "sns.countplot(x='sex', data= Penguins)\n",
    "plt.title('Count of Penguins by Sex')\n",
    "plt.xlabel('Sex')\n",
    "plt.ylabel('Count')\n",
    "plt.show()"
   ]
  },
  {
   "cell_type": "code",
   "execution_count": null,
   "metadata": {},
   "outputs": [],
   "source": []
  },
  {
   "cell_type": "code",
   "execution_count": null,
   "metadata": {},
   "outputs": [],
   "source": []
  },
  {
   "cell_type": "code",
   "execution_count": null,
   "metadata": {},
   "outputs": [],
   "source": []
  },
  {
   "cell_type": "code",
   "execution_count": null,
   "metadata": {},
   "outputs": [],
   "source": [
    "Penguins.hist(bins=10, color='pink', edgecolor='black', grid=False, figsize=(8,7)) # this is a function to create multiple separate histograms of each column of numerical data\n",
    "# However, this function does not categorise based on the species type, it simply shows the frequency of each variable type without stating which species it corresponds to \n",
    "plt.suptitle('Histograms of the Numerical Data') #this function formats the title properly at the top of the image\n",
    "plt.subplots_adjust(top=0.9, hspace=0.4) #adjusting the space between graphs so the titles do not overlap with each other\n",
    "plt.show() \n",
    "#plt.savefig('Histograms')\n",
    "#plt.close()\n"
   ]
  },
  {
   "cell_type": "code",
   "execution_count": null,
   "metadata": {},
   "outputs": [],
   "source": [
    "############################################\n",
    "# Numeric Variables\n",
    "numeric_variables = ['bill_length_mm', 'bill_depth_mm', 'flipper_length_mm', 'body_mass_g']\n",
    "\n",
    "for variable in numeric_variables:\n",
    "    plt.figure(figsize=(10, 9))\n",
    "    sns.histplot(Penguins[variable], kde=True)\n",
    "    plt.title(f'Distribution of {variable}')\n",
    "    plt.xlabel(variable)\n",
    "    plt.ylabel('Frequency')\n",
    "    plt.show()\n"
   ]
  },
  {
   "cell_type": "code",
   "execution_count": null,
   "metadata": {},
   "outputs": [],
   "source": []
  }
 ],
 "metadata": {
  "kernelspec": {
   "display_name": "base",
   "language": "python",
   "name": "python3"
  },
  "language_info": {
   "codemirror_mode": {
    "name": "ipython",
    "version": 3
   },
   "file_extension": ".py",
   "mimetype": "text/x-python",
   "name": "python",
   "nbconvert_exporter": "python",
   "pygments_lexer": "ipython3",
   "version": "3.11.5"
  }
 },
 "nbformat": 4,
 "nbformat_minor": 2
}
