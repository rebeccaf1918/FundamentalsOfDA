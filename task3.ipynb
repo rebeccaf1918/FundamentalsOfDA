{
 "cells": [
  {
   "cell_type": "markdown",
   "metadata": {},
   "source": [
    "## Task 3\n",
    "\n",
    "> For each of the variables in the penguins data set, suggest what probability distribution from the nimpy random distributions list is the most appropriate to model the variable. "
   ]
  },
  {
   "cell_type": "markdown",
   "metadata": {},
   "source": [
    "#Distribution of Data is a list of all the possible entries, and how often each entry occurs."
   ]
  },
  {
   "cell_type": "code",
   "execution_count": null,
   "metadata": {},
   "outputs": [],
   "source": [
    "# importing all of the relevant libraries to analyse the data set \n",
    "import numpy as np\n",
    "import seaborn as sns\n",
    "import matplotlib.pyplot as plt \n",
    "import pandas as pd \n",
    "\n",
    "Penguins = pd.read_csv('penguins.csv') # reading the penguins data set to use (should already be done)\n",
    "Penguins.describe(include = 'all') # I specified to include all as the describe function defaults to only show numerical data while \n",
    "# I wanted to include both numerical & categorical data.\n",
    "\n",
    "# I have downloaded the csv data file to the directory. It can also be gotten online at https://github.com/mwaskom/seaborn-data/blob/master/penguins.csv"
   ]
  },
  {
   "cell_type": "code",
   "execution_count": null,
   "metadata": {},
   "outputs": [],
   "source": []
  },
  {
   "cell_type": "code",
   "execution_count": null,
   "metadata": {},
   "outputs": [],
   "source": [
    "Penguins.hist(bins=10, color='pink', edgecolor='black', grid=False, figsize=(8,7)) # this is a function to create multiple separate histograms of each column of numerical data\n",
    "# However, this function does not categorise based on the species type, it simply shows the frequency of each variable type without stating which species it corresponds to \n",
    "plt.suptitle('Histograms of the Numerical Data') #this function formats the title properly at the top of the image\n",
    "plt.subplots_adjust(top=0.9, hspace=0.4) #adjusting the space between graphs so the titles do not overlap with each other\n",
    "plt.show() \n",
    "#plt.savefig('Histograms')\n",
    "#plt.close()\n"
   ]
  },
  {
   "cell_type": "code",
   "execution_count": null,
   "metadata": {},
   "outputs": [],
   "source": [
    "############################################\n",
    "# Numeric Variables\n",
    "numeric_variables = ['bill_length_mm', 'bill_depth_mm', 'flipper_length_mm', 'body_mass_g']\n",
    "\n",
    "for variable in numeric_variables:\n",
    "    plt.figure(figsize=(10, 9))\n",
    "    sns.histplot(Penguins[variable], kde=True)\n",
    "    plt.xlabel(variable)\n",
    "    plt.ylabel('Frequency')\n",
    "    plt.title(f'Distribution of {variable}')\n",
    "    plt.show()\n"
   ]
  },
  {
   "cell_type": "code",
   "execution_count": null,
   "metadata": {},
   "outputs": [],
   "source": []
  }
 ],
 "metadata": {
  "kernelspec": {
   "display_name": "base",
   "language": "python",
   "name": "python3"
  },
  "language_info": {
   "codemirror_mode": {
    "name": "ipython",
    "version": 3
   },
   "file_extension": ".py",
   "mimetype": "text/x-python",
   "name": "python",
   "nbconvert_exporter": "python",
   "pygments_lexer": "ipython3",
   "version": "3.11.5"
  }
 },
 "nbformat": 4,
 "nbformat_minor": 2
}
