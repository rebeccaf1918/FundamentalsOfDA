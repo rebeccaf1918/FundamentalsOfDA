{
 "cells": [
  {
   "attachments": {},
   "cell_type": "markdown",
   "metadata": {},
   "source": [
    "# Fundamentals of Data Analysis Project\n",
    "\n",
    "## Rebecca Feeley\n",
    "\n",
    "***"
   ]
  },
  {
   "cell_type": "markdown",
   "metadata": {},
   "source": [
    " The project is to create a notebook investigating the variables and\n",
    "data points within the well-known iris flower data set associated\n",
    "with Ronald A Fisher.\n",
    "• In the notebook, you should discuss the classification of each\n",
    "variable within the data set according to common variable types\n",
    "and scales of measurement in mathematics, statistics, and Python.\n",
    "• Select, demonstrate, and explain the most appropriate summary\n",
    "statistics to describe each variable.\n",
    "• Select, demonstrate, and explain the most appropriate plot(s) for\n",
    "each variable.\n",
    "• The notebook should follow a cohesive narrative about the data\n",
    "set."
   ]
  },
  {
   "cell_type": "markdown",
   "metadata": {},
   "source": [
    "# Outline\n",
    "\n",
    "- Overview of data set e.g df.info() and df.describe() etc\n",
    "- check for null values etc\n",
    "- describe each of the variables including their type e.g qualitative etc\n",
    "- visualise each of the variables using appropriate models e.g histograms, boxplots, swarmplots etc\n",
    "- determine any relationships between the variables"
   ]
  },
  {
   "cell_type": "code",
   "execution_count": null,
   "metadata": {},
   "outputs": [],
   "source": []
  },
  {
   "cell_type": "code",
   "execution_count": null,
   "metadata": {},
   "outputs": [],
   "source": []
  },
  {
   "cell_type": "code",
   "execution_count": null,
   "metadata": {},
   "outputs": [],
   "source": []
  },
  {
   "cell_type": "code",
   "execution_count": null,
   "metadata": {},
   "outputs": [],
   "source": []
  },
  {
   "cell_type": "code",
   "execution_count": null,
   "metadata": {},
   "outputs": [],
   "source": []
  },
  {
   "attachments": {},
   "cell_type": "markdown",
   "metadata": {},
   "source": [
    "The End \n",
    "\n",
    "*** "
   ]
  }
 ],
 "metadata": {
  "kernelspec": {
   "display_name": "base",
   "language": "python",
   "name": "python3"
  },
  "language_info": {
   "codemirror_mode": {
    "name": "ipython",
    "version": 3
   },
   "file_extension": ".py",
   "mimetype": "text/x-python",
   "name": "python",
   "nbconvert_exporter": "python",
   "pygments_lexer": "ipython3",
   "version": "3.11.5"
  },
  "orig_nbformat": 4
 },
 "nbformat": 4,
 "nbformat_minor": 2
}
