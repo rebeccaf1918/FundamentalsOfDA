{
 "cells": [
  {
   "attachments": {},
   "cell_type": "markdown",
   "metadata": {},
   "source": [
    "# Fundamentals of Data Analysis Project\n",
    "\n",
    "## Rebecca Feeley\n",
    "\n",
    "***"
   ]
  },
  {
   "cell_type": "markdown",
   "metadata": {},
   "source": [
    "The project is to create a notebook investigating the variables and data points within the well-known iris flower data set associated with Ronald A Fisher.\n",
    "• In the notebook, you should discuss the classification of each variable within the data set according to common variable types and scales of measurement in mathematics, statistics, and Python.\n",
    "• Select, demonstrate, and explain the most appropriate summary statistics to describe each variable.\n",
    "• Select, demonstrate, and explain the most appropriate plot(s) for each variable.\n",
    "• The notebook should follow a cohesive narrative about the data set."
   ]
  },
  {
   "cell_type": "markdown",
   "metadata": {},
   "source": [
    "# Outline\n",
    "\n",
    "- Overview of data set e.g df.info() and df.describe() etc\n",
    "- check for null values etc\n",
    "- describe each of the variables including their type e.g qualitative etc\n",
    "- visualise each of the variables using appropriate models e.g histograms, boxplots, swarmplots etc\n",
    "- determine any relationships between the variables"
   ]
  },
  {
   "cell_type": "code",
   "execution_count": null,
   "metadata": {},
   "outputs": [],
   "source": [
    "# Importing all of the libraries required to complete analysis of the dataset\n",
    "import numpy as np \n",
    "import pandas as pd \n",
    "import seaborn as sns \n",
    "import matplotlib.pyplot as plt \n",
    "from tabulate import tabulate\n",
    "import sys\n",
    "\n",
    "# I have downloaded the csv data file to the directory. It can also be gotten online at https://archive.ics.uci.edu/dataset/53/iris\n",
    "iris_data = pd.read_csv(\"IrisData.csv\", header=None) # setting that there is no header so it is recognised that the data begins from line 1\n",
    "column_names = [\"Sepal_Length(cm)\", \"Sepal_Width(cm)\", \"Petal_Length(cm)\", \"Petal_Width(cm)\", \"Species\"] # I have assigned names to each of the columns\n",
    "iris_data = pd.read_csv(\"IrisData.csv\", names = column_names, header=None)"
   ]
  },
  {
   "cell_type": "code",
   "execution_count": null,
   "metadata": {},
   "outputs": [],
   "source": [
    "iris_data.info()\n",
    "\n",
    "iris_data.describe()  # *** desription of each column incl basic statistical analysis\n",
    "\n",
    "#iris_data.shape()  # *** the number of rows and columns\n",
    "\n",
    "iris_data.head()  # *** top 5 rows of the dataset\n",
    "\n",
    "iris_data.tail() # *** last 5 rows of the dataset\n",
    "\n",
    "iris_data.isnull().any()  #if any are missing, result will display as TRUE\n",
    "\n",
    "iris_data.value_counts(\"Species\") # *** To check if the dataset has equal rows in each species column i.e is balanced\n",
    "\n",
    "iris_data.groupby(\"Species\").median() #  *** The median value for each column grouped by species\n",
    "\n",
    "iris_data.groupby(\"Species\").mean() # *** The mean value for each column grouped by species\n",
    "\n",
    "iris_data.groupby(\"Species\").min() # *** The minimum measurement for each species\n",
    "\n",
    "iris_data.groupby(\"Species\").max() # *** The maximum measurement for each species\n"
   ]
  },
  {
   "cell_type": "markdown",
   "metadata": {},
   "source": [
    "Firstly, I will discuss the classification of each variable of the Iris data set according to common variable types and scales of measurement in mathematics, statistics, and Python."
   ]
  },
  {
   "cell_type": "code",
   "execution_count": null,
   "metadata": {},
   "outputs": [],
   "source": []
  },
  {
   "attachments": {},
   "cell_type": "markdown",
   "metadata": {},
   "source": [
    "The End \n",
    "\n",
    "*** "
   ]
  }
 ],
 "metadata": {
  "kernelspec": {
   "display_name": "base",
   "language": "python",
   "name": "python3"
  },
  "language_info": {
   "codemirror_mode": {
    "name": "ipython",
    "version": 3
   },
   "file_extension": ".py",
   "mimetype": "text/x-python",
   "name": "python",
   "nbconvert_exporter": "python",
   "pygments_lexer": "ipython3",
   "version": "3.11.5"
  },
  "orig_nbformat": 4
 },
 "nbformat": 4,
 "nbformat_minor": 2
}
