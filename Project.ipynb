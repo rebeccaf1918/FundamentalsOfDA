{
 "cells": [
  {
   "attachments": {},
   "cell_type": "markdown",
   "metadata": {},
   "source": [
    "# Fundamentals of Data Analysis Project\n",
    "\n",
    "## Rebecca Feeley\n",
    "\n",
    "***"
   ]
  },
  {
   "cell_type": "markdown",
   "metadata": {},
   "source": [
    "> - The project is to create a notebook investigating the variables and data points within the well-known iris flower data set associated with Ronald A Fisher.\n",
    "> - In the notebook, you should discuss the classification of each variable within the data set according to common variable types and scales of measurement in mathematics, statistics, and Python.\n",
    "> - Select, demonstrate, and explain the most appropriate summary statistics to describe each variable.\n",
    "> - Select, demonstrate, and explain the most appropriate plot(s) for each variable."
   ]
  },
  {
   "cell_type": "markdown",
   "metadata": {},
   "source": [
    "The Iris Flower Data Set is a multivariate data set which originated in a 1936 paper by Ronald Fisher.\n",
    "The data itself regarding the Iris Setosa, Iris Virginica and Iris Versicolour flowers were collected by Dr Edgar Anderson in Canada.\n",
    "The data set is used for multivariate data analysis and in Machine Learning. \n",
    "It contains 50 samples from each of three species of Iris Flower:\n",
    "- Iris Setosa, Iris Versicolour and Iris Virginica\n",
    "\n",
    "For each species type, there are 4 measurements available, measured in centimeters:\n",
    "- Septal Length\n",
    "- Septal Width\n",
    "- Petal Length\n",
    "- Petal Width"
   ]
  },
  {
   "cell_type": "markdown",
   "metadata": {},
   "source": [
    "_Obtaining the dataset_\n",
    "I downloaded the Iris Data Set from UC Irvine Machine Learning which can be assessed at https://archive.ics.uci.edu/dataset/53/iris. I stored this data in a CSV file in my repository and used the Pandas library to read the data from the CSV file to allow me to manipulate the data with Python code.\n"
   ]
  },
  {
   "cell_type": "markdown",
   "metadata": {},
   "source": [
    "!['Image of the Iris Flower Species'](https://miro.medium.com/v2/resize:fit:3500/1*f6KbPXwksAliMIsibFyGJw.png)\n"
   ]
  },
  {
   "cell_type": "code",
   "execution_count": null,
   "metadata": {},
   "outputs": [],
   "source": [
    "# Importing all of the libraries required to complete analysis of the dataset\n",
    "import numpy as np \n",
    "import pandas as pd \n",
    "import seaborn as sns \n",
    "import matplotlib.pyplot as plt \n",
    "import sys\n",
    "\n",
    "\n",
    "iris_data = pd.read_csv(\"IrisData.csv\", header=None) # setting that there is no header so it is recognised that the data begins from line 1\n",
    "column_names = [\"Sepal_Length(cm)\", \"Sepal_Width(cm)\", \"Petal_Length(cm)\", \"Petal_Width(cm)\", \"Species\"] # I have assigned names to each of the columns\n",
    "iris_data = pd.read_csv(\"IrisData.csv\", names = column_names, header=None)"
   ]
  },
  {
   "cell_type": "markdown",
   "metadata": {},
   "source": [
    "Firstly, I am inspecting the dataset for any missing values by using the isnull() function. \n",
    "The resulting output of False for each variable shows that there are no missing values."
   ]
  },
  {
   "cell_type": "code",
   "execution_count": null,
   "metadata": {},
   "outputs": [],
   "source": [
    "iris_data.isnull().any()  #if any values are missing, result will display as TRUE\n"
   ]
  },
  {
   "cell_type": "markdown",
   "metadata": {},
   "source": [
    "Now, I am using the head() and tail() functions to display the first 5 lines of the Iris data set and the last 5 lines of the Iris data set.\n",
    "This allows us to see the column names of the data, how many columns are in the data, and a general overview of the top and bottom of the dataset."
   ]
  },
  {
   "cell_type": "code",
   "execution_count": 242,
   "metadata": {},
   "outputs": [
    {
     "data": {
      "text/html": [
       "<div>\n",
       "<style scoped>\n",
       "    .dataframe tbody tr th:only-of-type {\n",
       "        vertical-align: middle;\n",
       "    }\n",
       "\n",
       "    .dataframe tbody tr th {\n",
       "        vertical-align: top;\n",
       "    }\n",
       "\n",
       "    .dataframe thead th {\n",
       "        text-align: right;\n",
       "    }\n",
       "</style>\n",
       "<table border=\"1\" class=\"dataframe\">\n",
       "  <thead>\n",
       "    <tr style=\"text-align: right;\">\n",
       "      <th></th>\n",
       "      <th>Sepal_Length(cm)</th>\n",
       "      <th>Sepal_Width(cm)</th>\n",
       "      <th>Petal_Length(cm)</th>\n",
       "      <th>Petal_Width(cm)</th>\n",
       "      <th>Species</th>\n",
       "    </tr>\n",
       "  </thead>\n",
       "  <tbody>\n",
       "    <tr>\n",
       "      <th>0</th>\n",
       "      <td>5.1</td>\n",
       "      <td>3.5</td>\n",
       "      <td>1.4</td>\n",
       "      <td>0.2</td>\n",
       "      <td>Iris-setosa</td>\n",
       "    </tr>\n",
       "    <tr>\n",
       "      <th>1</th>\n",
       "      <td>4.9</td>\n",
       "      <td>3.0</td>\n",
       "      <td>1.4</td>\n",
       "      <td>0.2</td>\n",
       "      <td>Iris-setosa</td>\n",
       "    </tr>\n",
       "    <tr>\n",
       "      <th>2</th>\n",
       "      <td>4.7</td>\n",
       "      <td>3.2</td>\n",
       "      <td>1.3</td>\n",
       "      <td>0.2</td>\n",
       "      <td>Iris-setosa</td>\n",
       "    </tr>\n",
       "    <tr>\n",
       "      <th>3</th>\n",
       "      <td>4.6</td>\n",
       "      <td>3.1</td>\n",
       "      <td>1.5</td>\n",
       "      <td>0.2</td>\n",
       "      <td>Iris-setosa</td>\n",
       "    </tr>\n",
       "    <tr>\n",
       "      <th>4</th>\n",
       "      <td>5.0</td>\n",
       "      <td>3.6</td>\n",
       "      <td>1.4</td>\n",
       "      <td>0.2</td>\n",
       "      <td>Iris-setosa</td>\n",
       "    </tr>\n",
       "  </tbody>\n",
       "</table>\n",
       "</div>"
      ],
      "text/plain": [
       "   Sepal_Length(cm)  Sepal_Width(cm)  Petal_Length(cm)  Petal_Width(cm)  \\\n",
       "0               5.1              3.5               1.4              0.2   \n",
       "1               4.9              3.0               1.4              0.2   \n",
       "2               4.7              3.2               1.3              0.2   \n",
       "3               4.6              3.1               1.5              0.2   \n",
       "4               5.0              3.6               1.4              0.2   \n",
       "\n",
       "       Species  \n",
       "0  Iris-setosa  \n",
       "1  Iris-setosa  \n",
       "2  Iris-setosa  \n",
       "3  Iris-setosa  \n",
       "4  Iris-setosa  "
      ]
     },
     "execution_count": 242,
     "metadata": {},
     "output_type": "execute_result"
    }
   ],
   "source": [
    "iris_data.head()  "
   ]
  },
  {
   "cell_type": "code",
   "execution_count": 241,
   "metadata": {},
   "outputs": [
    {
     "data": {
      "text/html": [
       "<div>\n",
       "<style scoped>\n",
       "    .dataframe tbody tr th:only-of-type {\n",
       "        vertical-align: middle;\n",
       "    }\n",
       "\n",
       "    .dataframe tbody tr th {\n",
       "        vertical-align: top;\n",
       "    }\n",
       "\n",
       "    .dataframe thead th {\n",
       "        text-align: right;\n",
       "    }\n",
       "</style>\n",
       "<table border=\"1\" class=\"dataframe\">\n",
       "  <thead>\n",
       "    <tr style=\"text-align: right;\">\n",
       "      <th></th>\n",
       "      <th>Sepal_Length(cm)</th>\n",
       "      <th>Sepal_Width(cm)</th>\n",
       "      <th>Petal_Length(cm)</th>\n",
       "      <th>Petal_Width(cm)</th>\n",
       "      <th>Species</th>\n",
       "    </tr>\n",
       "  </thead>\n",
       "  <tbody>\n",
       "    <tr>\n",
       "      <th>145</th>\n",
       "      <td>6.7</td>\n",
       "      <td>3.0</td>\n",
       "      <td>5.2</td>\n",
       "      <td>2.3</td>\n",
       "      <td>Iris-virginica</td>\n",
       "    </tr>\n",
       "    <tr>\n",
       "      <th>146</th>\n",
       "      <td>6.3</td>\n",
       "      <td>2.5</td>\n",
       "      <td>5.0</td>\n",
       "      <td>1.9</td>\n",
       "      <td>Iris-virginica</td>\n",
       "    </tr>\n",
       "    <tr>\n",
       "      <th>147</th>\n",
       "      <td>6.5</td>\n",
       "      <td>3.0</td>\n",
       "      <td>5.2</td>\n",
       "      <td>2.0</td>\n",
       "      <td>Iris-virginica</td>\n",
       "    </tr>\n",
       "    <tr>\n",
       "      <th>148</th>\n",
       "      <td>6.2</td>\n",
       "      <td>3.4</td>\n",
       "      <td>5.4</td>\n",
       "      <td>2.3</td>\n",
       "      <td>Iris-virginica</td>\n",
       "    </tr>\n",
       "    <tr>\n",
       "      <th>149</th>\n",
       "      <td>5.9</td>\n",
       "      <td>3.0</td>\n",
       "      <td>5.1</td>\n",
       "      <td>1.8</td>\n",
       "      <td>Iris-virginica</td>\n",
       "    </tr>\n",
       "  </tbody>\n",
       "</table>\n",
       "</div>"
      ],
      "text/plain": [
       "     Sepal_Length(cm)  Sepal_Width(cm)  Petal_Length(cm)  Petal_Width(cm)  \\\n",
       "145               6.7              3.0               5.2              2.3   \n",
       "146               6.3              2.5               5.0              1.9   \n",
       "147               6.5              3.0               5.2              2.0   \n",
       "148               6.2              3.4               5.4              2.3   \n",
       "149               5.9              3.0               5.1              1.8   \n",
       "\n",
       "            Species  \n",
       "145  Iris-virginica  \n",
       "146  Iris-virginica  \n",
       "147  Iris-virginica  \n",
       "148  Iris-virginica  \n",
       "149  Iris-virginica  "
      ]
     },
     "execution_count": 241,
     "metadata": {},
     "output_type": "execute_result"
    }
   ],
   "source": [
    "iris_data.tail() "
   ]
  },
  {
   "cell_type": "markdown",
   "metadata": {},
   "source": [
    "Now, I am using the value_counts() function to determine if the dataset is balanced. This function checks if there are equal row entries for each of the species type of Iris flower. \n",
    "The output shows that this dataset is balanced and there are 50 rows of entries for each of the three species of Iris flower."
   ]
  },
  {
   "cell_type": "code",
   "execution_count": 243,
   "metadata": {},
   "outputs": [
    {
     "data": {
      "text/plain": [
       "Species\n",
       "Iris-setosa        50\n",
       "Iris-versicolor    50\n",
       "Iris-virginica     50\n",
       "Name: count, dtype: int64"
      ]
     },
     "execution_count": 243,
     "metadata": {},
     "output_type": "execute_result"
    }
   ],
   "source": [
    "iris_data.value_counts(\"Species\") "
   ]
  },
  {
   "cell_type": "markdown",
   "metadata": {},
   "source": [
    "The dtypes function displays the data type of each variable. The possible outcomes are object (i.e string), int64 (whole number) and float64 (number with decimals).\n",
    "\n",
    "The output of the this function shows that the Sepal Length, Sepal Width, Petal Length and Petal Width are float64 type data which means these variables are numerical variables; and Species is object type data which means it is categorical in nature."
   ]
  },
  {
   "cell_type": "code",
   "execution_count": 248,
   "metadata": {},
   "outputs": [
    {
     "data": {
      "text/plain": [
       "Sepal_Length(cm)    float64\n",
       "Sepal_Width(cm)     float64\n",
       "Petal_Length(cm)    float64\n",
       "Petal_Width(cm)     float64\n",
       "Species              object\n",
       "dtype: object"
      ]
     },
     "execution_count": 248,
     "metadata": {},
     "output_type": "execute_result"
    }
   ],
   "source": [
    "iris_data.dtypes"
   ]
  },
  {
   "cell_type": "code",
   "execution_count": 251,
   "metadata": {},
   "outputs": [
    {
     "name": "stdout",
     "output_type": "stream",
     "text": [
      "<class 'pandas.core.frame.DataFrame'>\n",
      "RangeIndex: 150 entries, 0 to 149\n",
      "Data columns (total 5 columns):\n",
      " #   Column            Non-Null Count  Dtype  \n",
      "---  ------            --------------  -----  \n",
      " 0   Sepal_Length(cm)  150 non-null    float64\n",
      " 1   Sepal_Width(cm)   150 non-null    float64\n",
      " 2   Petal_Length(cm)  150 non-null    float64\n",
      " 3   Petal_Width(cm)   150 non-null    float64\n",
      " 4   Species           150 non-null    object \n",
      "dtypes: float64(4), object(1)\n",
      "memory usage: 6.0+ KB\n"
     ]
    }
   ],
   "source": [
    "iris_data.info() # a function which summarises the above information on the dataset"
   ]
  },
  {
   "cell_type": "markdown",
   "metadata": {},
   "source": [
    "## Classifying the data types \n",
    "\n",
    "Firstly, I will discuss the classification of each variable of the Iris data set according to common variable types and scales of measurement in mathematics, statistics, and Python."
   ]
  },
  {
   "cell_type": "markdown",
   "metadata": {},
   "source": [
    "There are two primary classes of data: Qualitative and Quantitative data.\n",
    "\n",
    "Qualitative data can also be called categorical data. Such data cannot be easily measured using numerbers. It generally refers to a category or type. Such data also has no numerical value which would allow them to be ranked; instead they may only be sorted by category.\n",
    "There are two subsets of qualitative data: Nominal and Ordinal data.\n",
    "Nominal data refers to variables which do not have an intrinsic or a numerical value which would allow them to be ordered or ranked.\n",
    "Ordinal data refers to variables which are in an order due to the relation amongst the different categories i.e they have a natural ordering on a scale but stil maintain their class of value, differentiating it from nominal data. However, they still do not have a numerical value. \n",
    "\n",
    "\n",
    "Quantitiative data, can also be called numerical data. This is data which can be quantified, i.e it has an intrinsic numerical value through which it can be measured. \n",
    "There are two subsets of quantitative data: Discrete and Continuous data.\n",
    "Discrete data refers to variables which are numerical in nature, but only includes integers which have a limited possible amount of values and cannot be further divided subdivided. \n",
    "Continous data refers to variables which can be broken down into even smaller values. It does not include only integers, but rather data which can be further subdivided into interval and ratio data. Interval data is data which can be categorised, ordered and evenly spaced (even intervals) but does not have a natural zero point. Ratio data is data which can be categorised, ordered, evenly spaced and also have a natural zero point."
   ]
  },
  {
   "cell_type": "markdown",
   "metadata": {},
   "source": [
    "Petal Length - Ratio Continuous numerical variable \n",
    "Petal Width - Ratio Continuous numerical variable\n",
    "Sepal Length - Ratio Continuous numerical variable\n",
    "Sepal Width - Ratio Continuous numerical variable\n",
    "Species - Nominal Categorical Variable\n",
    "\n",
    "It is clear the the species variable is qualitative (categorical) and it is nominal as the flowers have no instrinsic value which would allow them to be ranked in any particular order.\n",
    "\n",
    "The remaining four variables of length and width are quantitative (numerical); and it is continuous as it can be broken down to a very exact figure and it is ratio data as such data has a nature zero point (cannot be a minus length or width) and the figures provide a means of ranking.\n"
   ]
  },
  {
   "cell_type": "markdown",
   "metadata": {},
   "source": []
  },
  {
   "cell_type": "markdown",
   "metadata": {},
   "source": [
    "The summary statistics of the Iris Dataset are obtained most easily using the describe() function. This function will generate the following analysis of the numerical variables (sepal length, sepal width, petal length and petal width). \n",
    "\n",
    "Count - Total number of variable entries\n",
    "Mean - Average value \n",
    "Standard deviation - is a measure of how spread out the variable is from the mean\n",
    "Minimum - smallest/minimum value of that variable\n",
    "25 percentile - 25 percentile mark\n",
    "50 percentile - 50 percentile mark (median)\n",
    "75 percentiles - 75 percentile mark\n",
    "Maximum - highest/maximum value of that variable"
   ]
  },
  {
   "cell_type": "code",
   "execution_count": 258,
   "metadata": {},
   "outputs": [
    {
     "data": {
      "text/plain": [
       "count             150\n",
       "unique              3\n",
       "top       Iris-setosa\n",
       "freq               50\n",
       "Name: Species, dtype: object"
      ]
     },
     "execution_count": 258,
     "metadata": {},
     "output_type": "execute_result"
    }
   ],
   "source": [
    "iris_data['Species'].describe()"
   ]
  },
  {
   "cell_type": "code",
   "execution_count": 257,
   "metadata": {},
   "outputs": [
    {
     "name": "stdout",
     "output_type": "stream",
     "text": [
      "                Sepal_Length(cm)                                              \\\n",
      "                           count   mean       std  min    25%  50%  75%  max   \n",
      "Species                                                                        \n",
      "Iris-setosa                 50.0  5.006  0.352490  4.3  4.800  5.0  5.2  5.8   \n",
      "Iris-versicolor             50.0  5.936  0.516171  4.9  5.600  5.9  6.3  7.0   \n",
      "Iris-virginica              50.0  6.588  0.635880  4.9  6.225  6.5  6.9  7.9   \n",
      "\n",
      "                Sepal_Width(cm)                                                \\\n",
      "                          count   mean       std  min    25%  50%    75%  max   \n",
      "Species                                                                         \n",
      "Iris-setosa                50.0  3.418  0.381024  2.3  3.125  3.4  3.675  4.4   \n",
      "Iris-versicolor            50.0  2.770  0.313798  2.0  2.525  2.8  3.000  3.4   \n",
      "Iris-virginica             50.0  2.974  0.322497  2.2  2.800  3.0  3.175  3.8   \n",
      "\n",
      "                Petal_Length(cm)                                               \\\n",
      "                           count   mean       std  min  25%   50%    75%  max   \n",
      "Species                                                                         \n",
      "Iris-setosa                 50.0  1.464  0.173511  1.0  1.4  1.50  1.575  1.9   \n",
      "Iris-versicolor             50.0  4.260  0.469911  3.0  4.0  4.35  4.600  5.1   \n",
      "Iris-virginica              50.0  5.552  0.551895  4.5  5.1  5.55  5.875  6.9   \n",
      "\n",
      "                Petal_Width(cm)                                            \n",
      "                          count   mean       std  min  25%  50%  75%  max  \n",
      "Species                                                                    \n",
      "Iris-setosa                50.0  0.244  0.107210  0.1  0.2  0.2  0.3  0.6  \n",
      "Iris-versicolor            50.0  1.326  0.197753  1.0  1.2  1.3  1.5  1.8  \n",
      "Iris-virginica             50.0  2.026  0.274650  1.4  1.8  2.0  2.3  2.5  \n"
     ]
    }
   ],
   "source": [
    "pd.set_option('display.max_rows', None) #this stops output from only displaying some of the result\n",
    "pd.set_option('display.max_columns', None)\n",
    "\n",
    "summary_stats = iris_data.groupby('Species').describe() # I have used the groupby function to separate all of the statistics based on species type\n",
    "print(summary_stats)"
   ]
  },
  {
   "cell_type": "markdown",
   "metadata": {},
   "source": [
    "# PLOTTING THE VARIABLES & Analysis"
   ]
  },
  {
   "cell_type": "markdown",
   "metadata": {},
   "source": [
    "Firstly, I will conduct univariate analysis on each of the variables, which means I will analyse each of the variables separately. \n",
    "Then, I will conduct bivariate analysis on two variables e.g Sepal Length and Sepal Width; then Petal Length and Sepal Width and so on and explore and potential relationships and correlations amongst the variables."
   ]
  },
  {
   "cell_type": "markdown",
   "metadata": {},
   "source": [
    "# Univariate Analysis"
   ]
  },
  {
   "cell_type": "markdown",
   "metadata": {},
   "source": [
    "### Species "
   ]
  },
  {
   "cell_type": "markdown",
   "metadata": {},
   "source": [
    "As I have already established, there are 3 species type of Iris Flower contained in the dataset:\n",
    "Iris Setosa\n",
    "Iris Virginica\n",
    "Iris Versicolor\n",
    "and there are 50 entries for each species type.\n",
    "\n",
    "This variable is a categorical variable and is best visualised using a countplot."
   ]
  },
  {
   "cell_type": "code",
   "execution_count": null,
   "metadata": {},
   "outputs": [],
   "source": [
    "column_names = [\"Sepal_Length(cm)\", \"Sepal_Width(cm)\", \"Petal_Length(cm)\", \"Petal_Width(cm)\", \"Species\"] \n",
    "iris_data = pd.read_csv(\"IrisData.csv\", names = column_names, header=None)\n",
    "iris_data['Species'].value_counts().plot(kind = 'bar', linewidth = 3, edgecolor = 'black', grid=False, color = ['purple', 'pink', 'blue'])\n",
    "plt.title('Species of the Iris Dataset')\n",
    "plt.xlabel('Species Type')\n",
    "plt.ylabel('Count')\n",
    "plt.xticks(rotation = 360) # so the x labels display horizontally instead of vertically\n",
    "plt.show()"
   ]
  },
  {
   "cell_type": "markdown",
   "metadata": {},
   "source": [
    "The above visualisation is very limited in what it tells us about the data, just that frequency of each species.\n",
    "However, I will now examine the numerical variables by category below."
   ]
  },
  {
   "cell_type": "code",
   "execution_count": null,
   "metadata": {},
   "outputs": [],
   "source": [
    "iris_data = pd.read_csv(\"IrisData.csv\", names=column_names) # creating a histogram of each variable (does not specify iris flower species)\n",
    "iris_data.hist(bins=8, color='green', edgecolor='black', grid=False, figsize=(9,8))  \n",
    "plt.suptitle('Histograms of the Length and Width of each Iris Characteristic') \n",
    "plt.subplots_adjust(top=0.9, hspace=0.4) #adjust space between graphs to prevent titles overlapping\n",
    "plt.show()"
   ]
  },
  {
   "cell_type": "markdown",
   "metadata": {},
   "source": [
    "Looking at the numerical variables, Sepal Length, Sepal Width, Petal Length and Petal Width, a histogram is a very useful visualisation for the data. \n",
    "It allows us to see the distribution of the data of each of the above variables, and the separate species are differentiated by colour."
   ]
  },
  {
   "cell_type": "code",
   "execution_count": null,
   "metadata": {},
   "outputs": [],
   "source": [
    "column_names = [\"Sepal_Length(cm)\", \"Sepal_Width(cm)\", \"Petal_Length(cm)\", \"Petal_Width(cm)\", \"Species\"] \n",
    "iris_data = pd.read_csv(\"IrisData.csv\", names = column_names, header=None)\n",
    "fig, axes = plt.subplots(2,2, figsize = (15,15))            \n",
    "IrisSetosa = iris_data[iris_data.Species == \"Iris-setosa\"] # I created variables for each species type of Iris plant\n",
    "IrisVersicolor = iris_data[iris_data.Species == \"Iris-versicolor\"]\n",
    "IrisVirginica = iris_data[iris_data.Species == \"Iris-virginica\"]\n",
    "\n",
    "axes[0,0].set_title(\"Sepal Length (in cm)\", fontweight='bold')    \n",
    "axes[0,0].set(xlabel='Sepal Length (in cm)')\n",
    "axes[0,0].hist(IrisSetosa['Sepal_Length(cm)'], bins=8, alpha=0.5, label=\"Iris-setosa\", color='green')            \n",
    "axes[0,0].hist(IrisVersicolor['Sepal_Length(cm)'], bins=8, alpha=0.5, label=\"Iris-versicolor\", color='purple')  \n",
    "axes[0,0].hist(IrisVirginica['Sepal_Length(cm)'], bins=8, alpha=0.5, label=\"Iris-virginica\", color='blue')    \n",
    "axes[0,0].legend(loc='upper right') #setting the legend to display in upper right hand corner                        \n",
    "    \n",
    "axes[0,1].set_title(\"Sepal Width (in cm)\", fontweight='bold')      \n",
    "axes[0,1].set(xlabel='Sepal Width (in cm)')\n",
    "axes[0,1].hist(IrisSetosa['Sepal_Width(cm)'], bins=8, alpha=0.5, label=\"Iris-setosa\", color='green')\n",
    "axes[0,1].hist(IrisVersicolor['Sepal_Width(cm)'], bins=8, alpha=0.5, label=\"Iris-versicolor\", color='purple')\n",
    "axes[0,1].hist(IrisVirginica['Sepal_Width(cm)'], bins=8, alpha=0.5, label=\"Iris-virginica\", color='blue')\n",
    "axes[0,1].legend(loc='upper right')\n",
    "\n",
    "axes[1,0].set_title(\"Petal Length (in cm)\", fontweight='bold')     \n",
    "axes[1,0].set(xlabel='Petal Length (in cm)')\n",
    "axes[1,0].hist(IrisSetosa['Petal_Length(cm)'], bins=8, alpha=0.5, label=\"Iris-setosa\", color='green')\n",
    "axes[1,0].hist(IrisVersicolor['Petal_Length(cm)'], bins=8, alpha=0.5, label=\"Iris-versicolor\", color='purple')\n",
    "axes[1,0].hist(IrisVirginica['Petal_Length(cm)'], bins=8, alpha=0.5, label=\"Iris-virginica\", color='blue')\n",
    "axes[1,0].legend(loc='upper right')\n",
    "\n",
    "axes[1,1].set_title(\"Petal Width (in cm)\", fontweight='bold')       \n",
    "axes[1,1].set(xlabel='Petal Width (in cm)')\n",
    "axes[1,1].hist(IrisSetosa['Petal_Width(cm)'], bins=8, alpha=0.5, label=\"Iris-setosa\", color='green')\n",
    "axes[1,1].hist(IrisVersicolor['Petal_Width(cm)'], bins=8, alpha=0.5, label=\"Iris-versicolor\", color='purple')\n",
    "axes[1,1].hist(IrisVirginica['Petal_Width(cm)'], bins=8, alpha=0.5, label=\"Iris-virginica\", color='blue')\n",
    "axes[1,1].legend(loc='upper right')"
   ]
  },
  {
   "cell_type": "code",
   "execution_count": null,
   "metadata": {},
   "outputs": [],
   "source": [
    "column_names = [\"Sepal_Length(cm)\", \"Sepal_Width(cm)\", \"Petal_Length(cm)\", \"Petal_Width(cm)\", \"Species\"] \n",
    "iris_data = pd.read_csv(\"IrisData.csv\", names = column_names, header=None)\n",
    "fig, axes = plt.subplots(2,2, figsize = (15,15))            \n",
    "IrisSetosa = iris_data[iris_data.Species == \"Iris-setosa\"] # I created variables for each species type of Iris plant\n",
    "IrisVersicolor = iris_data[iris_data.Species == \"Iris-versicolor\"]\n",
    "IrisVirginica = iris_data[iris_data.Species == \"Iris-virginica\"]\n",
    "\n",
    "\n",
    "axes[0,0].set_title(\"Sepal Length of Iris Setosa, Versicolor and Virginica\", fontweight='bold')    \n",
    "axes[0,0].set(xlabel='Sepal Length (in cm)')\n",
    "sns.histplot(IrisSetosa['Sepal_Length(cm)'], bins=8, label=\"Iris-setosa\", color='green', kde=True, ax=axes[0,0], edgecolor=None)            \n",
    "sns.histplot(IrisVersicolor['Sepal_Length(cm)'], bins=8, label=\"Iris-versicolor\", color='purple', kde=True, ax=axes[0,0], edgecolor=None)  \n",
    "sns.histplot(IrisVirginica['Sepal_Length(cm)'], bins=8, label=\"Iris-virginica\", color='blue', kde=True, ax=axes[0,0], edgecolor=None)  \n",
    "\n",
    "axes[0,1].set_title(\"Sepal Width of Iris Setosa, Versicolor and Virginica\", fontweight='bold')      \n",
    "axes[0,1].set(xlabel='Sepal Width (in cm)')\n",
    "sns.histplot(IrisSetosa['Sepal_Width(cm)'], bins=8, label=\"Iris-setosa\", color='green', kde=True, ax=axes[0,1], edgecolor=None)\n",
    "sns.histplot(IrisVersicolor['Sepal_Width(cm)'], bins=8, label=\"Iris-versicolor\", color='purple', kde=True, ax=axes[0,1], edgecolor=None)\n",
    "sns.histplot(IrisVirginica['Sepal_Width(cm)'], bins=8, label=\"Iris-virginica\", color='blue', kde=True, ax=axes[0,1], edgecolor=None)\n",
    "\n",
    "axes[1,0].set_title(\"Petal Length of 'Setosa, Versicolor and Virginica\", fontweight='bold')     \n",
    "axes[1,0].set(xlabel='Petal Length (in cm)')\n",
    "sns.histplot(IrisSetosa['Petal_Length(cm)'], bins=8, label=\"Iris-setosa\", color='green', kde=True, ax=axes[1,0], edgecolor=None)\n",
    "sns.histplot(IrisVersicolor['Petal_Length(cm)'], bins=8, label=\"Iris-versicolor\", color='purple', kde=True, ax=axes[1,0], edgecolor=None)\n",
    "sns.histplot(IrisVirginica['Petal_Length(cm)'], bins=8, label=\"Iris-virginica\", color='blue', kde=True, ax=axes[1,0], edgecolor=None)\n",
    "\n",
    "axes[1,1].set_title(\"Petal Width of Iris Setosa, Versicolor and Virginica\", fontweight='bold')       \n",
    "axes[1,1].set(xlabel='Petal Width (in cm)')\n",
    "sns.histplot(IrisSetosa['Petal_Width(cm)'], bins=8, label=\"Iris-setosa\", color='green',kde=True, ax=axes[1,1], edgecolor=None)\n",
    "sns.histplot(IrisVersicolor['Petal_Width(cm)'], bins=8, label=\"Iris-versicolor\", color='purple', kde=True, ax=axes[1,1], edgecolor=None)\n",
    "sns.histplot(IrisVirginica['Petal_Width(cm)'], bins=8, label=\"Iris-virginica\", color='blue', kde=True, ax=axes[1,1], edgecolor=None)\n",
    "plt.subplots_adjust(bottom=0.2)\n",
    "\n",
    "plt.suptitle('Histograms')\n",
    "fig.suptitle(\"Histograms and Probability Distribution Plots of each of the Iris Flower characteristics\", y=0.92) #removing large gap between the plots and the main title"
   ]
  },
  {
   "cell_type": "code",
   "execution_count": null,
   "metadata": {},
   "outputs": [],
   "source": [
    "column_names = [\"Sepal_Length(cm)\", \"Sepal_Width(cm)\", \"Petal_Length(cm)\", \"Petal_Width(cm)\", \"Species\"] \n",
    "iris_data = pd.read_csv(\"IrisData.csv\", names = column_names, header=None)\n",
    "fig, axes = plt.subplots(2,2, figsize = (15,15))            \n",
    "IrisSetosa = iris_data[iris_data.Species == \"Iris-setosa\"] # I created variables for each species type of Iris plant\n",
    "IrisVersicolor = iris_data[iris_data.Species == \"Iris-versicolor\"]\n",
    "IrisVirginica = iris_data[iris_data.Species == \"Iris-virginica\"]\n",
    "\n",
    "\n",
    "axes[0,0].set_title(\"Sepal Length (in cm)\", fontweight='bold')    \n",
    "axes[0,0].set(xlabel='Species')\n",
    "sns.boxplot(x='Species',y='Sepal_Length(cm)',data=iris_data ,palette='PuBuGn', ax=axes[0,0])   \n",
    "\n",
    "axes[0,1].set_title(\"Sepal Width (in cm)\", fontweight='bold')      \n",
    "axes[0,1].set(xlabel='Sepal Width (in cm)')\n",
    "sns.boxplot(x='Species',y='Sepal_Width(cm)',data=iris_data ,palette='PuBuGn', ax=axes[0,1]) \n",
    "\n",
    "axes[1,0].set_title(\"Petal Length (in cm)\", fontweight='bold')     \n",
    "axes[1,0].set(xlabel='Petal Length (in cm)')\n",
    "sns.boxplot(x='Species',y='Petal_Length(cm)',data=iris_data ,palette='PuBuGn', ax=axes[1,0]) \n",
    "\n",
    "axes[1,1].set_title(\"Petal Width (in cm)\", fontweight='bold')       \n",
    "axes[1,1].set(xlabel='Petal Width (in cm)')\n",
    "sns.boxplot(x='Species',y='Petal_Length(cm)',data=iris_data ,palette='PuBuGn', ax=axes[1,1]) \n",
    "\n",
    "plt.suptitle('Boxplot of the Petal Length of each species class')\n",
    "fig.suptitle('Boxplot of the Petal Length of each Species Class', y=0.92)\n"
   ]
  },
  {
   "cell_type": "markdown",
   "metadata": {},
   "source": [
    "# Bivariate Analysis"
   ]
  },
  {
   "cell_type": "code",
   "execution_count": null,
   "metadata": {},
   "outputs": [],
   "source": [
    "iris_data = pd.read_csv(\"IrisData.csv\", names=column_names)\n",
    "\n",
    "# Scatter plot of Sepal Length x Sepal Width\n",
    "sns.scatterplot(data=iris_data, x='Sepal_Length(cm)', y='Sepal_Width(cm)', hue='Species', palette=['green', 'purple', 'blue'])\n",
    "plt.title('Correlation between Sepal Length & Width (by Species Type)')\n",
    "plt.plot() \n",
    "plt.show()\n",
    "\n",
    "sns.scatterplot(data=iris_data, x='Petal_Length(cm)', y='Petal_Width(cm)', hue='Species', palette=['green', 'purple', 'blue'])\n",
    "plt.title('Correlation between Petal Length & Width (by Species Type)')\n",
    "plt.plot() \n",
    "plt.show()\n"
   ]
  },
  {
   "cell_type": "code",
   "execution_count": null,
   "metadata": {},
   "outputs": [],
   "source": [
    "sns.pairplot(iris_data, hue='Species', palette=['green', 'purple', 'blue'])\n",
    "plt.plot()\n",
    "plt.show()\n",
    "plt.savefig('Pairplot of all the features of the Iris Setosa, Versicolour & Virginica.png') #saving the pairplot for future reference\n",
    "plt.close()\n",
    "\n",
    "\n",
    "CorrelationMatrix = iris_data.corr(numeric_only=True) #so it only uses the numerical variables, not by species\n",
    "CorrelationMatrix.to_string('Correlation.txt') #saving the output to a text file\n",
    "print(CorrelationMatrix)\n"
   ]
  },
  {
   "cell_type": "code",
   "execution_count": null,
   "metadata": {},
   "outputs": [],
   "source": [
    "\n",
    "\n",
    "# Create the heatmap with annotations, annotations to 2 decimal places\n",
    "sns.heatmap(CorrelationMatrix, annot=True, cmap='coolwarm', fmt=\".2f\", linewidths=1)\n",
    "# annot=True so the Pearson values display on each square of the heatmap.\n",
    "\n",
    "plt.suptitle('Heatmap of the correlation between each variable')\n",
    "plt.subplots_adjust(left=0.25, bottom = 0.3)\n",
    "plt.show()\n"
   ]
  },
  {
   "cell_type": "markdown",
   "metadata": {},
   "source": [
    "The Pearson method of analysis is what I have chosen for the heatmap. 1 means total positive correlation, 0 is no correlation and -1 is total negative correlation. The results for the iris data set are across the range from 1 to -1.\n"
   ]
  },
  {
   "attachments": {},
   "cell_type": "markdown",
   "metadata": {},
   "source": [
    "The End \n",
    "\n",
    "*** "
   ]
  }
 ],
 "metadata": {
  "kernelspec": {
   "display_name": "base",
   "language": "python",
   "name": "python3"
  },
  "language_info": {
   "codemirror_mode": {
    "name": "ipython",
    "version": 3
   },
   "file_extension": ".py",
   "mimetype": "text/x-python",
   "name": "python",
   "nbconvert_exporter": "python",
   "pygments_lexer": "ipython3",
   "version": "3.11.5"
  },
  "orig_nbformat": 4
 },
 "nbformat": 4,
 "nbformat_minor": 2
}
